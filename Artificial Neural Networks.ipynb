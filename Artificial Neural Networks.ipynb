{
 "cells": [
  {
   "cell_type": "code",
   "execution_count": 1,
   "metadata": {},
   "outputs": [
    {
     "name": "stderr",
     "output_type": "stream",
     "text": [
      "Using TensorFlow backend.\n"
     ]
    }
   ],
   "source": [
    "import pandas as pd\n",
    "import numpy as np\n",
    "import matplotlib.pyplot as plt\n",
    "import seaborn as sns\n",
    "import keras\n",
    "from sklearn.model_selection import train_test_split "
   ]
  },
  {
   "cell_type": "code",
   "execution_count": 2,
   "metadata": {},
   "outputs": [],
   "source": [
    "data = pd.read_csv(\"creditcard\\creditcard.csv\")"
   ]
  },
  {
   "cell_type": "code",
   "execution_count": 3,
   "metadata": {},
   "outputs": [
    {
     "data": {
      "text/plain": [
       "Index(['Time', 'V1', 'V2', 'V3', 'V4', 'V5', 'V6', 'V7', 'V8', 'V9', 'V10',\n",
       "       'V11', 'V12', 'V13', 'V14', 'V15', 'V16', 'V17', 'V18', 'V19', 'V20',\n",
       "       'V21', 'V22', 'V23', 'V24', 'V25', 'V26', 'V27', 'V28', 'Amount',\n",
       "       'Class'],\n",
       "      dtype='object')"
      ]
     },
     "execution_count": 3,
     "metadata": {},
     "output_type": "execute_result"
    }
   ],
   "source": [
    "data.columns"
   ]
  },
  {
   "cell_type": "code",
   "execution_count": 4,
   "metadata": {},
   "outputs": [
    {
     "data": {
      "text/html": [
       "<div>\n",
       "<style scoped>\n",
       "    .dataframe tbody tr th:only-of-type {\n",
       "        vertical-align: middle;\n",
       "    }\n",
       "\n",
       "    .dataframe tbody tr th {\n",
       "        vertical-align: top;\n",
       "    }\n",
       "\n",
       "    .dataframe thead th {\n",
       "        text-align: right;\n",
       "    }\n",
       "</style>\n",
       "<table border=\"1\" class=\"dataframe\">\n",
       "  <thead>\n",
       "    <tr style=\"text-align: right;\">\n",
       "      <th></th>\n",
       "      <th>Time</th>\n",
       "      <th>V1</th>\n",
       "      <th>V2</th>\n",
       "      <th>V3</th>\n",
       "      <th>V4</th>\n",
       "      <th>V5</th>\n",
       "      <th>V6</th>\n",
       "      <th>V7</th>\n",
       "      <th>V8</th>\n",
       "      <th>V9</th>\n",
       "      <th>...</th>\n",
       "      <th>V21</th>\n",
       "      <th>V22</th>\n",
       "      <th>V23</th>\n",
       "      <th>V24</th>\n",
       "      <th>V25</th>\n",
       "      <th>V26</th>\n",
       "      <th>V27</th>\n",
       "      <th>V28</th>\n",
       "      <th>Amount</th>\n",
       "      <th>Class</th>\n",
       "    </tr>\n",
       "  </thead>\n",
       "  <tbody>\n",
       "    <tr>\n",
       "      <th>0</th>\n",
       "      <td>0.0</td>\n",
       "      <td>-1.359807</td>\n",
       "      <td>-0.072781</td>\n",
       "      <td>2.536347</td>\n",
       "      <td>1.378155</td>\n",
       "      <td>-0.338321</td>\n",
       "      <td>0.462388</td>\n",
       "      <td>0.239599</td>\n",
       "      <td>0.098698</td>\n",
       "      <td>0.363787</td>\n",
       "      <td>...</td>\n",
       "      <td>-0.018307</td>\n",
       "      <td>0.277838</td>\n",
       "      <td>-0.110474</td>\n",
       "      <td>0.066928</td>\n",
       "      <td>0.128539</td>\n",
       "      <td>-0.189115</td>\n",
       "      <td>0.133558</td>\n",
       "      <td>-0.021053</td>\n",
       "      <td>149.62</td>\n",
       "      <td>0</td>\n",
       "    </tr>\n",
       "    <tr>\n",
       "      <th>1</th>\n",
       "      <td>0.0</td>\n",
       "      <td>1.191857</td>\n",
       "      <td>0.266151</td>\n",
       "      <td>0.166480</td>\n",
       "      <td>0.448154</td>\n",
       "      <td>0.060018</td>\n",
       "      <td>-0.082361</td>\n",
       "      <td>-0.078803</td>\n",
       "      <td>0.085102</td>\n",
       "      <td>-0.255425</td>\n",
       "      <td>...</td>\n",
       "      <td>-0.225775</td>\n",
       "      <td>-0.638672</td>\n",
       "      <td>0.101288</td>\n",
       "      <td>-0.339846</td>\n",
       "      <td>0.167170</td>\n",
       "      <td>0.125895</td>\n",
       "      <td>-0.008983</td>\n",
       "      <td>0.014724</td>\n",
       "      <td>2.69</td>\n",
       "      <td>0</td>\n",
       "    </tr>\n",
       "  </tbody>\n",
       "</table>\n",
       "<p>2 rows × 31 columns</p>\n",
       "</div>"
      ],
      "text/plain": [
       "   Time        V1        V2        V3        V4        V5        V6        V7  \\\n",
       "0   0.0 -1.359807 -0.072781  2.536347  1.378155 -0.338321  0.462388  0.239599   \n",
       "1   0.0  1.191857  0.266151  0.166480  0.448154  0.060018 -0.082361 -0.078803   \n",
       "\n",
       "         V8        V9  ...       V21       V22       V23       V24       V25  \\\n",
       "0  0.098698  0.363787  ... -0.018307  0.277838 -0.110474  0.066928  0.128539   \n",
       "1  0.085102 -0.255425  ... -0.225775 -0.638672  0.101288 -0.339846  0.167170   \n",
       "\n",
       "        V26       V27       V28  Amount  Class  \n",
       "0 -0.189115  0.133558 -0.021053  149.62      0  \n",
       "1  0.125895 -0.008983  0.014724    2.69      0  \n",
       "\n",
       "[2 rows x 31 columns]"
      ]
     },
     "execution_count": 4,
     "metadata": {},
     "output_type": "execute_result"
    }
   ],
   "source": [
    "data.head(2)"
   ]
  },
  {
   "cell_type": "code",
   "execution_count": 5,
   "metadata": {},
   "outputs": [
    {
     "data": {
      "text/plain": [
       "<matplotlib.axes._subplots.AxesSubplot at 0x22701fc2a20>"
      ]
     },
     "execution_count": 5,
     "metadata": {},
     "output_type": "execute_result"
    },
    {
     "data": {
      "image/png": "[encoded data removed]",
      "text/plain": [
       "<Figure size 720x360 with 1 Axes>"
      ]
     },
     "metadata": {
      "needs_background": "light"
     },
     "output_type": "display_data"
    }
   ],
   "source": [
    "data.corrwith(data.Class).plot.bar(figsize = (10, 5), title = \"Correlation with class\", fontsize = 15, rot = 45, grid = True)"
   ]
  },
  {
   "cell_type": "code",
   "execution_count": 6,
   "metadata": {},
   "outputs": [
    {
     "data": {
      "text/plain": [
       "<matplotlib.axes._subplots.AxesSubplot at 0x22702133320>"
      ]
     },
     "execution_count": 6,
     "metadata": {},
     "output_type": "execute_result"
    },
    {
     "data": {
      "image/png": "[encoded data removed]",
      "text/plain": [
       "<Figure size 720x360 with 2 Axes>"
      ]
     },
     "metadata": {
      "needs_background": "light"
     },
     "output_type": "display_data"
    }
   ],
   "source": [
    "plt.figure(figsize=(10, 5))\n",
    "sns.heatmap(data.isnull())"
   ]
  },
  {
   "cell_type": "code",
   "execution_count": 7,
   "metadata": {},
   "outputs": [
    {
     "data": {
      "text/plain": [
       "(284807, 31)"
      ]
     },
     "execution_count": 7,
     "metadata": {},
     "output_type": "execute_result"
    }
   ],
   "source": [
    "data.shape"
   ]
  },
  {
   "cell_type": "code",
   "execution_count": 8,
   "metadata": {},
   "outputs": [
    {
     "data": {
      "text/plain": [
       "0"
      ]
     },
     "execution_count": 8,
     "metadata": {},
     "output_type": "execute_result"
    }
   ],
   "source": [
    "data.isnull().values.sum()"
   ]
  },
  {
   "cell_type": "code",
   "execution_count": 9,
   "metadata": {},
   "outputs": [],
   "source": [
    "from sklearn.preprocessing import StandardScaler\n",
    "data['standarsised Amount'] = StandardScaler().fit_transform(data['Amount'].values.reshape(-1, 1))"
   ]
  },
  {
   "cell_type": "code",
   "execution_count": 10,
   "metadata": {},
   "outputs": [
    {
     "data": {
      "text/plain": [
       "Index(['Time', 'V1', 'V2', 'V3', 'V4', 'V5', 'V6', 'V7', 'V8', 'V9', 'V10',\n",
       "       'V11', 'V12', 'V13', 'V14', 'V15', 'V16', 'V17', 'V18', 'V19', 'V20',\n",
       "       'V21', 'V22', 'V23', 'V24', 'V25', 'V26', 'V27', 'V28', 'Amount',\n",
       "       'Class', 'standarsised Amount'],\n",
       "      dtype='object')"
      ]
     },
     "execution_count": 10,
     "metadata": {},
     "output_type": "execute_result"
    }
   ],
   "source": [
    "data.columns"
   ]
  },
  {
   "cell_type": "code",
   "execution_count": 11,
   "metadata": {},
   "outputs": [],
   "source": [
    "data = data.drop(['Amount'], axis = 1)\n",
    "data = data.drop(['Time'], axis = 1)"
   ]
  },
  {
   "cell_type": "code",
   "execution_count": 12,
   "metadata": {},
   "outputs": [
    {
     "data": {
      "text/plain": [
       "Index(['V1', 'V2', 'V3', 'V4', 'V5', 'V6', 'V7', 'V8', 'V9', 'V10', 'V11',\n",
       "       'V12', 'V13', 'V14', 'V15', 'V16', 'V17', 'V18', 'V19', 'V20', 'V21',\n",
       "       'V22', 'V23', 'V24', 'V25', 'V26', 'V27', 'V28', 'Class',\n",
       "       'standarsised Amount'],\n",
       "      dtype='object')"
      ]
     },
     "execution_count": 12,
     "metadata": {},
     "output_type": "execute_result"
    }
   ],
   "source": [
    "data.columns"
   ]
  },
  {
   "cell_type": "code",
   "execution_count": 13,
   "metadata": {},
   "outputs": [],
   "source": [
    "X = data.drop(['Class'], axis =1)\n",
    "y = data['Class']"
   ]
  },
  {
   "cell_type": "code",
   "execution_count": 14,
   "metadata": {},
   "outputs": [],
   "source": [
    "X_train, X_test, y_train, y_test = train_test_split(X, y, test_size = 0.3, random_state = 0)"
   ]
  },
  {
   "cell_type": "code",
   "execution_count": 16,
   "metadata": {},
   "outputs": [
    {
     "name": "stdout",
     "output_type": "stream",
     "text": [
      "WARNING:tensorflow:From C:\\Users\\Dell\\Anaconda3\\lib\\site-packages\\tensorflow\\python\\framework\\op_def_library.py:263: colocate_with (from tensorflow.python.framework.ops) is deprecated and will be removed in a future version.\n",
      "Instructions for updating:\n",
      "Colocations handled automatically by placer.\n"
     ]
    }
   ],
   "source": [
    "#Dependencies\n",
    "import keras\n",
    "from keras.models import Sequential\n",
    "from keras.layers import Dense\n",
    "# Neural network\n",
    "model = Sequential()\n",
    "model.add(Dense(15, activation ='relu', input_dim = 29))\n",
    "model.add(Dense(15, activation = 'relu'))\n",
    "model.add(Dense(1, activation = 'sigmoid'))"
   ]
  },
  {
   "cell_type": "code",
   "execution_count": 17,
   "metadata": {},
   "outputs": [],
   "source": [
    "model.compile(loss='binary_crossentropy', optimizer='adam', metrics=['accuracy'])"
   ]
  },
  {
   "cell_type": "code",
   "execution_count": 18,
   "metadata": {},
   "outputs": [
    {
     "name": "stdout",
     "output_type": "stream",
     "text": [
      "WARNING:tensorflow:From C:\\Users\\Dell\\Anaconda3\\lib\\site-packages\\tensorflow\\python\\ops\\math_ops.py:3066: to_int32 (from tensorflow.python.ops.math_ops) is deprecated and will be removed in a future version.\n",
      "Instructions for updating:\n",
      "Use tf.cast instead.\n",
      "Epoch 1/100\n",
      "199364/199364 [==============================] - 16s 78us/step - loss: 0.0083 - acc: 0.9991\n",
      "Epoch 2/100\n",
      "199364/199364 [==============================] - 11s 55us/step - loss: 0.0031 - acc: 0.9993\n",
      "Epoch 3/100\n",
      "199364/199364 [==============================] - 12s 58us/step - loss: 0.0028 - acc: 0.9994\n",
      "Epoch 4/100\n",
      "199364/199364 [==============================] - 10s 52us/step - loss: 0.0026 - acc: 0.9994\n",
      "Epoch 5/100\n",
      "199364/199364 [==============================] - 11s 54us/step - loss: 0.0024 - acc: 0.9994\n",
      "Epoch 6/100\n",
      "199364/199364 [==============================] - 11s 54us/step - loss: 0.0025 - acc: 0.9995\n",
      "Epoch 7/100\n",
      "199364/199364 [==============================] - 10s 53us/step - loss: 0.0023 - acc: 0.9995\n",
      "Epoch 8/100\n",
      "199364/199364 [==============================] - 10s 52us/step - loss: 0.0022 - acc: 0.9995\n",
      "Epoch 9/100\n",
      "199364/199364 [==============================] - 10s 52us/step - loss: 0.0021 - acc: 0.9995\n",
      "Epoch 10/100\n",
      "199364/199364 [==============================] - 10s 48us/step - loss: 0.0020 - acc: 0.9995\n",
      "Epoch 11/100\n",
      "199364/199364 [==============================] - 11s 53us/step - loss: 0.0020 - acc: 0.9996\n",
      "Epoch 12/100\n",
      "199364/199364 [==============================] - 10s 52us/step - loss: 0.0020 - acc: 0.9995\n",
      "Epoch 13/100\n",
      "199364/199364 [==============================] - 10s 49us/step - loss: 0.0019 - acc: 0.9996\n",
      "Epoch 14/100\n",
      "199364/199364 [==============================] - 10s 51us/step - loss: 0.0018 - acc: 0.9996\n",
      "Epoch 15/100\n",
      "199364/199364 [==============================] - 10s 50us/step - loss: 0.0017 - acc: 0.9996\n",
      "Epoch 16/100\n",
      "199364/199364 [==============================] - 11s 54us/step - loss: 0.0018 - acc: 0.9996\n",
      "Epoch 17/100\n",
      "199364/199364 [==============================] - 10s 53us/step - loss: 0.0017 - acc: 0.9996\n",
      "Epoch 18/100\n",
      "199364/199364 [==============================] - 11s 53us/step - loss: 0.0017 - acc: 0.9996\n",
      "Epoch 19/100\n",
      "199364/199364 [==============================] - 12s 61us/step - loss: 0.0015 - acc: 0.9996\n",
      "Epoch 20/100\n",
      "199364/199364 [==============================] - 11s 55us/step - loss: 0.0017 - acc: 0.9996\n",
      "Epoch 21/100\n",
      "199364/199364 [==============================] - 11s 57us/step - loss: 0.0016 - acc: 0.9996\n",
      "Epoch 22/100\n",
      "199364/199364 [==============================] - 12s 59us/step - loss: 0.0017 - acc: 0.9996\n",
      "Epoch 23/100\n",
      "199364/199364 [==============================] - 12s 59us/step - loss: 0.0016 - acc: 0.9996\n",
      "Epoch 24/100\n",
      "199364/199364 [==============================] - 11s 57us/step - loss: 0.0016 - acc: 0.9996\n",
      "Epoch 25/100\n",
      "199364/199364 [==============================] - 12s 61us/step - loss: 0.0015 - acc: 0.9996\n",
      "Epoch 26/100\n",
      "199364/199364 [==============================] - 11s 54us/step - loss: 0.0016 - acc: 0.9996\n",
      "Epoch 27/100\n",
      "199364/199364 [==============================] - 12s 58us/step - loss: 0.0015 - acc: 0.9996\n",
      "Epoch 28/100\n",
      "199364/199364 [==============================] - 11s 54us/step - loss: 0.0014 - acc: 0.9997\n",
      "Epoch 29/100\n",
      "199364/199364 [==============================] - 11s 56us/step - loss: 0.0014 - acc: 0.9996\n",
      "Epoch 30/100\n",
      "199364/199364 [==============================] - 11s 57us/step - loss: 0.0014 - acc: 0.9996\n",
      "Epoch 31/100\n",
      "199364/199364 [==============================] - 11s 53us/step - loss: 0.0014 - acc: 0.9996\n",
      "Epoch 32/100\n",
      "199364/199364 [==============================] - 10s 51us/step - loss: 0.0014 - acc: 0.9996\n",
      "Epoch 33/100\n",
      "199364/199364 [==============================] - 12s 59us/step - loss: 0.0014 - acc: 0.9996\n",
      "Epoch 34/100\n",
      "199364/199364 [==============================] - 12s 61us/step - loss: 0.0014 - acc: 0.9996\n",
      "Epoch 35/100\n",
      "199364/199364 [==============================] - 11s 55us/step - loss: 0.0014 - acc: 0.9996\n",
      "Epoch 36/100\n",
      "199364/199364 [==============================] - 13s 66us/step - loss: 0.0014 - acc: 0.9996\n",
      "Epoch 37/100\n",
      "199364/199364 [==============================] - 13s 66us/step - loss: 0.0013 - acc: 0.9996\n",
      "Epoch 38/100\n",
      "199364/199364 [==============================] - 13s 67us/step - loss: 0.0013 - acc: 0.9996\n",
      "Epoch 39/100\n",
      "199364/199364 [==============================] - 13s 63us/step - loss: 0.0013 - acc: 0.9996\n",
      "Epoch 40/100\n",
      "199364/199364 [==============================] - 11s 54us/step - loss: 0.0013 - acc: 0.9997\n",
      "Epoch 41/100\n",
      "199364/199364 [==============================] - 11s 55us/step - loss: 0.0013 - acc: 0.9997\n",
      "Epoch 42/100\n",
      "199364/199364 [==============================] - 11s 54us/step - loss: 0.0013 - acc: 0.9997\n",
      "Epoch 43/100\n",
      "199364/199364 [==============================] - 11s 56us/step - loss: 0.0013 - acc: 0.9996\n",
      "Epoch 44/100\n",
      "199364/199364 [==============================] - 11s 53us/step - loss: 0.0012 - acc: 0.9997\n",
      "Epoch 45/100\n",
      "199364/199364 [==============================] - 14s 69us/step - loss: 0.0012 - acc: 0.9997\n",
      "Epoch 46/100\n",
      "199364/199364 [==============================] - 12s 59us/step - loss: 0.0012 - acc: 0.9997\n",
      "Epoch 47/100\n",
      "199364/199364 [==============================] - 10s 51us/step - loss: 0.0012 - acc: 0.9997\n",
      "Epoch 48/100\n",
      "199364/199364 [==============================] - 10s 52us/step - loss: 0.0012 - acc: 0.9996\n",
      "Epoch 49/100\n",
      "199364/199364 [==============================] - 10s 52us/step - loss: 0.0013 - acc: 0.9997\n",
      "Epoch 50/100\n",
      "199364/199364 [==============================] - 10s 51us/step - loss: 0.0012 - acc: 0.9997\n",
      "Epoch 51/100\n",
      "199364/199364 [==============================] - 12s 58us/step - loss: 0.0011 - acc: 0.9996\n",
      "Epoch 52/100\n",
      "199364/199364 [==============================] - 11s 54us/step - loss: 0.0013 - acc: 0.9997\n",
      "Epoch 53/100\n",
      "199364/199364 [==============================] - 10s 52us/step - loss: 0.0011 - acc: 0.9997\n",
      "Epoch 54/100\n",
      "199364/199364 [==============================] - 10s 53us/step - loss: 0.0011 - acc: 0.9997\n",
      "Epoch 55/100\n",
      "199364/199364 [==============================] - 10s 52us/step - loss: 0.0011 - acc: 0.9997\n",
      "Epoch 56/100\n",
      "199364/199364 [==============================] - 11s 54us/step - loss: 0.0011 - acc: 0.9997\n",
      "Epoch 57/100\n",
      "199364/199364 [==============================] - 12s 62us/step - loss: 0.0010 - acc: 0.9997\n",
      "Epoch 58/100\n",
      "199364/199364 [==============================] - 13s 64us/step - loss: 0.0011 - acc: 0.9997\n",
      "Epoch 59/100\n",
      "199364/199364 [==============================] - 10s 53us/step - loss: 0.0011 - acc: 0.9997\n",
      "Epoch 60/100\n",
      "199364/199364 [==============================] - 10s 48us/step - loss: 0.0012 - acc: 0.9997\n",
      "Epoch 61/100\n",
      "199364/199364 [==============================] - 10s 50us/step - loss: 0.0011 - acc: 0.9997\n",
      "Epoch 62/100\n",
      "199364/199364 [==============================] - 9s 45us/step - loss: 9.7433e-04 - acc: 0.9997\n",
      "Epoch 63/100\n",
      "199364/199364 [==============================] - 9s 47us/step - loss: 9.4662e-04 - acc: 0.9997\n",
      "Epoch 64/100\n",
      "199364/199364 [==============================] - 9s 46us/step - loss: 9.6782e-04 - acc: 0.9997\n",
      "Epoch 65/100\n",
      "199364/199364 [==============================] - 9s 45us/step - loss: 0.0011 - acc: 0.9997\n",
      "Epoch 66/100\n",
      "199364/199364 [==============================] - 10s 50us/step - loss: 9.5654e-04 - acc: 0.9997\n",
      "Epoch 67/100\n",
      "199364/199364 [==============================] - 9s 45us/step - loss: 9.4571e-04 - acc: 0.9997\n",
      "Epoch 68/100\n",
      "199364/199364 [==============================] - 10s 49us/step - loss: 0.0011 - acc: 0.9997\n",
      "Epoch 69/100\n",
      "199364/199364 [==============================] - 9s 43us/step - loss: 9.8542e-04 - acc: 0.9997\n",
      "Epoch 70/100\n",
      "199364/199364 [==============================] - 10s 48us/step - loss: 8.8465e-04 - acc: 0.9997\n",
      "Epoch 71/100\n",
      "199364/199364 [==============================] - 12s 58us/step - loss: 0.0011 - acc: 0.9997\n",
      "Epoch 72/100\n",
      "199364/199364 [==============================] - 12s 61us/step - loss: 9.0266e-04 - acc: 0.9998\n",
      "Epoch 73/100\n",
      "199364/199364 [==============================] - 13s 66us/step - loss: 9.1180e-04 - acc: 0.9997\n",
      "Epoch 74/100\n",
      "199364/199364 [==============================] - 13s 64us/step - loss: 9.7665e-04 - acc: 0.9997\n",
      "Epoch 75/100\n",
      "199364/199364 [==============================] - 11s 57us/step - loss: 8.8694e-04 - acc: 0.9997\n",
      "Epoch 76/100\n"
     ]
    },
    {
     "name": "stdout",
     "output_type": "stream",
     "text": [
      "199364/199364 [==============================] - 10s 50us/step - loss: 0.0011 - acc: 0.9997\n",
      "Epoch 77/100\n",
      "199364/199364 [==============================] - 10s 51us/step - loss: 0.0010 - acc: 0.9997\n",
      "Epoch 78/100\n",
      "199364/199364 [==============================] - 11s 53us/step - loss: 9.3836e-04 - acc: 0.9997\n",
      "Epoch 79/100\n",
      "199364/199364 [==============================] - 10s 53us/step - loss: 9.8722e-04 - acc: 0.9997\n",
      "Epoch 80/100\n",
      "199364/199364 [==============================] - 11s 55us/step - loss: 9.6511e-04 - acc: 0.9997\n",
      "Epoch 81/100\n",
      "199364/199364 [==============================] - 11s 54us/step - loss: 8.6633e-04 - acc: 0.9998\n",
      "Epoch 82/100\n",
      "199364/199364 [==============================] - 11s 54us/step - loss: 0.0011 - acc: 0.9997\n",
      "Epoch 83/100\n",
      "199364/199364 [==============================] - 10s 49us/step - loss: 8.9836e-04 - acc: 0.9997\n",
      "Epoch 84/100\n",
      "199364/199364 [==============================] - 10s 51us/step - loss: 9.7241e-04 - acc: 0.9997\n",
      "Epoch 85/100\n",
      "199364/199364 [==============================] - 11s 57us/step - loss: 9.6118e-04 - acc: 0.9997\n",
      "Epoch 86/100\n",
      "199364/199364 [==============================] - 11s 56us/step - loss: 7.9899e-04 - acc: 0.9998\n",
      "Epoch 87/100\n",
      "199364/199364 [==============================] - 12s 58us/step - loss: 9.3810e-04 - acc: 0.9997\n",
      "Epoch 88/100\n",
      "199364/199364 [==============================] - 11s 55us/step - loss: 8.3341e-04 - acc: 0.9997\n",
      "Epoch 89/100\n",
      "199364/199364 [==============================] - 12s 58us/step - loss: 7.9239e-04 - acc: 0.9997\n",
      "Epoch 90/100\n",
      "199364/199364 [==============================] - 11s 56us/step - loss: 7.4407e-04 - acc: 0.9998\n",
      "Epoch 91/100\n",
      "199364/199364 [==============================] - 11s 55us/step - loss: 8.8090e-04 - acc: 0.9997\n",
      "Epoch 92/100\n",
      "199364/199364 [==============================] - 10s 52us/step - loss: 7.8176e-04 - acc: 0.9997\n",
      "Epoch 93/100\n",
      "199364/199364 [==============================] - 12s 62us/step - loss: 8.1622e-04 - acc: 0.9998\n",
      "Epoch 94/100\n",
      "199364/199364 [==============================] - 9s 45us/step - loss: 8.1726e-04 - acc: 0.9998\n",
      "Epoch 95/100\n",
      "199364/199364 [==============================] - 8s 42us/step - loss: 8.8804e-04 - acc: 0.9998\n",
      "Epoch 96/100\n",
      "199364/199364 [==============================] - 9s 43us/step - loss: 8.5146e-04 - acc: 0.9998\n",
      "Epoch 97/100\n",
      "199364/199364 [==============================] - 9s 43us/step - loss: 7.2047e-04 - acc: 0.9998\n",
      "Epoch 98/100\n",
      "199364/199364 [==============================] - 9s 44us/step - loss: 8.1007e-04 - acc: 0.9997\n",
      "Epoch 99/100\n",
      "199364/199364 [==============================] - 8s 42us/step - loss: 7.8264e-04 - acc: 0.9998\n",
      "Epoch 100/100\n",
      "199364/199364 [==============================] - 9s 44us/step - loss: 8.5406e-04 - acc: 0.9997\n"
     ]
    },
    {
     "data": {
      "text/plain": [
       "<keras.callbacks.History at 0x2270250de10>"
      ]
     },
     "execution_count": 18,
     "metadata": {},
     "output_type": "execute_result"
    }
   ],
   "source": [
    "model.fit(X_train, y_train, batch_size = 32, epochs = 100)"
   ]
  },
  {
   "cell_type": "code",
   "execution_count": 19,
   "metadata": {},
   "outputs": [],
   "source": [
    "y_pred = model.predict(X_test)\n",
    "y_pred = (y_pred > 0.5)"
   ]
  },
  {
   "cell_type": "code",
   "execution_count": 21,
   "metadata": {},
   "outputs": [
    {
     "name": "stdout",
     "output_type": "stream",
     "text": [
      "85443/85443 [==============================] - 4s 42us/step\n"
     ]
    },
    {
     "data": {
      "text/plain": [
       "[0.006249599457806327, 0.99916903666772]"
      ]
     },
     "execution_count": 21,
     "metadata": {},
     "output_type": "execute_result"
    }
   ],
   "source": [
    "score = model.evaluate(X_test, y_test)\n",
    "score"
   ]
  },
  {
   "cell_type": "code",
   "execution_count": 25,
   "metadata": {},
   "outputs": [],
   "source": [
    "from sklearn.metrics import confusion_matrix\n",
    "cm = confusion_matrix(y_test, y_pred)"
   ]
  },
  {
   "cell_type": "code",
   "execution_count": 26,
   "metadata": {},
   "outputs": [
    {
     "data": {
      "text/plain": [
       "array([[85262,    34],\n",
       "       [   37,   110]], dtype=int64)"
      ]
     },
     "execution_count": 26,
     "metadata": {},
     "output_type": "execute_result"
    }
   ],
   "source": [
    "cm"
   ]
  },
  {
   "cell_type": "code",
   "execution_count": null,
   "metadata": {},
   "outputs": [],
   "source": []
  }
 ],
 "metadata": {
  "kernelspec": {
   "display_name": "Python 3",
   "language": "python",
   "name": "python3"
  },
  "language_info": {
   "codemirror_mode": {
    "name": "ipython",
    "version": 3
   },
   "file_extension": ".py",
   "mimetype": "text/x-python",
   "name": "python",
   "nbconvert_exporter": "python",
   "pygments_lexer": "ipython3",
   "version": "3.7.1"
  }
 },
 "nbformat": 4,
 "nbformat_minor": 2
}
